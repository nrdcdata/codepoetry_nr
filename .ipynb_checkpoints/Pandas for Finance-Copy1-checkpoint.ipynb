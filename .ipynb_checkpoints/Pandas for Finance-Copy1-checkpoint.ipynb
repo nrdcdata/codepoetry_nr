{
 "cells": [
  {
   "cell_type": "code",
   "execution_count": 1,
   "metadata": {},
   "outputs": [
    {
     "ename": "SyntaxError",
     "evalue": "invalid syntax (<ipython-input-1-908796f86f9c>, line 12)",
     "output_type": "error",
     "traceback": [
      "\u001b[1;36m  File \u001b[1;32m\"<ipython-input-1-908796f86f9c>\"\u001b[1;36m, line \u001b[1;32m12\u001b[0m\n\u001b[1;33m    ticker = 'AAPL'S\u001b[0m\n\u001b[1;37m                   ^\u001b[0m\n\u001b[1;31mSyntaxError\u001b[0m\u001b[1;31m:\u001b[0m invalid syntax\n"
     ]
    }
   ],
   "source": [
    "# Import DataReader\n",
    "from pandas_datareader.data import DataReader\n",
    "\n",
    "# Import date\n",
    "from datetime import date\n",
    "\n",
    "# Set start and end dates\n",
    "start = date(2016, 1, 1)\n",
    "end = date(2016, 12, 31)\n",
    "\n",
    "# Set the ticker\n",
    "ticker = 'AAPL'S\n",
    "\n",
    "# Set the data source\n",
    "data_source = 'google'\n",
    "\n",
    "# Import the stock prices\n",
    "stock_prices = DataReader(ticker, data_source, start, end)\n",
    "\n",
    "# Display and inspect the result\n",
    "#print(stock_prices.head())\n",
    "stock_prices.info()"
   ]
  }
 ],
 "metadata": {
  "kernelspec": {
   "display_name": "Python 3",
   "language": "python",
   "name": "python3"
  },
  "language_info": {
   "codemirror_mode": {
    "name": "ipython",
    "version": 3
   },
   "file_extension": ".py",
   "mimetype": "text/x-python",
   "name": "python",
   "nbconvert_exporter": "python",
   "pygments_lexer": "ipython3",
   "version": "3.6.1"
  }
 },
 "nbformat": 4,
 "nbformat_minor": 2
}
